{
 "cells": [
  {
   "cell_type": "code",
   "execution_count": null,
   "metadata": {},
   "outputs": [],
   "source": [
    "#Eminent_Biosceinces_EMBS_Server_VEGFR_Cervical_Cancer_Project\n",
    "#Import Modules\n",
    "import numpy as np\n",
    "import pandas as pd\n",
    "from rdkit import Chem\n",
    "from rdkit.Chem import Descriptors, AllChem\n",
    "from sklearn.model_selection import train_test_split\n",
    "from sklearn.neural_network import MLPRegressor\n",
    "from sklearn.metrics import mean_squared_error\n",
    "from keras.models import Sequential\n",
    "from keras.layers import Dense\n",
    "\n",
    "\n",
    "data = {\n",
    "    'Molecule': ['COC', 'CCO', 'CCC', 'CCCN'],\n",
    "    'Activity': [1.2, 1.5, 2.3, 0.8]  \n",
    "}\n",
    "\n",
    "\n",
    "df = pd.DataFrame(data)\n",
    "\n",
    "# Calculate molecular descriptors using RDKit\n",
    "df['Mol'] = df['Molecule'].apply(Chem.MolFromSmiles)\n",
    "df['MolWeight'] = df['Mol'].apply(Descriptors.MolWt)\n",
    "df['NumAtoms'] = df['Mol'].apply(Descriptors.HeavyAtomCount)\n",
    "\n",
    "# Split data into features and target\n",
    "X = df[['MolWeight', 'NumAtoms']]\n",
    "y = df['Activity']\n",
    "\n",
    "# Split data into training and testing sets\n",
    "X_train, X_test, y_train, y_test = train_test_split(X, y, test_size=0.2, random_state=42)\n",
    "\n",
    "# Train a machine learning model (e.g., Neural Network using scikit-learn)\n",
    "model_sklearn = MLPRegressor(hidden_layer_sizes=(100, 50), max_iter=500)\n",
    "model_sklearn.fit(X_train, y_train)\n",
    "predictions_sklearn = model_sklearn.predict(X_test)\n",
    "mse_sklearn = mean_squared_error(y_test, predictions_sklearn)\n",
    "print(f\"SKLearn Neural Network Mean Squared Error: {mse_sklearn}\")\n",
    "\n",
    "# Train a neural network using Keras\n",
    "model_keras = Sequential()\n",
    "model_keras.add(Dense(10, input_dim=2, activation='relu'))\n",
    "model_keras.add(Dense(1, activation='linear'))\n",
    "model_keras.compile(loss='mean_squared_error', optimizer='adam')\n",
    "model_keras.fit(X_train, y_train, epochs=100, batch_size=2, verbose=0)\n",
    "predictions_keras = model_keras.predict(X_test)\n",
    "mse_keras = mean_squared_error(y_test, predictions_keras)\n",
    "print(f\"Keras Neural Network Mean Squared Error: {mse_keras}\")"
   ]
  }
 ],
 "metadata": {
  "kernelspec": {
   "display_name": "Python 3",
   "language": "python",
   "name": "python3"
  },
  "language_info": {
   "codemirror_mode": {
    "name": "ipython",
    "version": 3
   },
   "file_extension": ".py",
   "mimetype": "text/x-python",
   "name": "python",
   "nbconvert_exporter": "python",
   "pygments_lexer": "ipython3",
   "version": "3.7.6"
  }
 },
 "nbformat": 4,
 "nbformat_minor": 4
}
