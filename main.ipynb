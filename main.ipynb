#Eminent_Biosceinces_EMBS_Server_VEGFR_Cervical_Cancer_Project
#Import Modules
import numpy as np
import pandas as pd
from rdkit import Chem
from rdkit.Chem import Descriptors, AllChem
from sklearn.model_selection import train_test_split
from sklearn.neural_network import MLPRegressor
from sklearn.metrics import mean_squared_error
from keras.models import Sequential
from keras.layers import Dense


data = {
    'Molecule': ['COC', 'CCO', 'CCC', 'CCCN'],
    'Activity': [1.2, 1.5, 2.3, 0.8]  
}


df = pd.DataFrame(data)

# Calculate molecular descriptors using RDKit
df['Mol'] = df['Molecule'].apply(Chem.MolFromSmiles)
df['MolWeight'] = df['Mol'].apply(Descriptors.MolWt)
df['NumAtoms'] = df['Mol'].apply(Descriptors.HeavyAtomCount)

# Split data into features and target
X = df[['MolWeight', 'NumAtoms']]
y = df['Activity']

# Split data into training and testing sets
X_train, X_test, y_train, y_test = train_test_split(X, y, test_size=0.2, random_state=42)

# Train a machine learning model (e.g., Neural Network using scikit-learn)
model_sklearn = MLPRegressor(hidden_layer_sizes=(100, 50), max_iter=500)
model_sklearn.fit(X_train, y_train)
predictions_sklearn = model_sklearn.predict(X_test)
mse_sklearn = mean_squared_error(y_test, predictions_sklearn)
print(f"SKLearn Neural Network Mean Squared Error: {mse_sklearn}")

# Train a neural network using Keras
model_keras = Sequential()
model_keras.add(Dense(10, input_dim=2, activation='relu'))
model_keras.add(Dense(1, activation='linear'))
model_keras.compile(loss='mean_squared_error', optimizer='adam')
model_keras.fit(X_train, y_train, epochs=100, batch_size=2, verbose=0)
predictions_keras = model_keras.predict(X_test)
mse_keras = mean_squared_error(y_test, predictions_keras)
print(f"Keras Neural Network Mean Squared Error: {mse_keras}")
